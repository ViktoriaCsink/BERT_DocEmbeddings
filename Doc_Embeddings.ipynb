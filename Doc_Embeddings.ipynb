{
 "cells": [
  {
   "cell_type": "markdown",
   "id": "future-prayer",
   "metadata": {},
   "source": [
    "## This script calculates the cosine similarity between a reference text and texts in Class0 and texts in Class1. <br> Class1 texts are related to the reference text, Class0 texts are not."
   ]
  },
  {
   "cell_type": "code",
   "execution_count": 94,
   "id": "dramatic-persian",
   "metadata": {},
   "outputs": [],
   "source": [
    "import os\n",
    "base = '/Users/Viktoria/Desktop/NLP_DocEmbeddings'\n",
    "docs = os.path.join(base, 'Documents')\n",
    "raw = os.path.join(base, 'Raw_data')\n",
    "viz = os.path.join(base, 'Data_visualisation')\n",
    "os.chdir(base)"
   ]
  },
  {
   "cell_type": "code",
   "execution_count": 52,
   "id": "hindu-pearl",
   "metadata": {},
   "outputs": [],
   "source": [
    "import pandas as pd\n",
    "import numpy as np\n",
    "import re\n",
    "import time\n",
    "from tqdm import tqdm\n",
    "import nltk\n",
    "from nltk.stem import WordNetLemmatizer\n",
    "from nltk.corpus import wordnet\n",
    "from nltk.corpus import stopwords\n",
    "import docx2txt\n",
    "from sentence_transformers import SentenceTransformer\n",
    "from sklearn.metrics.pairwise import cosine_similarity\n",
    "import seaborn as sns\n",
    "import numpy as np\n",
    "import matplotlib.pyplot as plt\n",
    "\n",
    "from read_file import read_file\n",
    "from clean_text import lemmatize\n",
    "from clean_text import clean_text\n",
    "\n",
    "pd.options.display.max_rows = 8000"
   ]
  },
  {
   "cell_type": "code",
   "execution_count": 3,
   "id": "narrative-mandate",
   "metadata": {},
   "outputs": [],
   "source": [
    "#pip install -r requirements.txt"
   ]
  },
  {
   "cell_type": "code",
   "execution_count": 4,
   "id": "passive-mirror",
   "metadata": {},
   "outputs": [],
   "source": [
    "#pip install sentence-transformers"
   ]
  },
  {
   "cell_type": "code",
   "execution_count": 5,
   "id": "tough-sight",
   "metadata": {},
   "outputs": [],
   "source": [
    "#pip install git+https://github.com/jbarlow83/OCRmyPDF.git"
   ]
  },
  {
   "cell_type": "markdown",
   "id": "underlying-robertson",
   "metadata": {},
   "source": [
    "## Step 1. Access the documents"
   ]
  },
  {
   "cell_type": "code",
   "execution_count": 6,
   "id": "molecular-zambia",
   "metadata": {},
   "outputs": [
    {
     "name": "stdout",
     "output_type": "stream",
     "text": [
      "Relevant documents:  22 \n",
      "Irrelevant documents:  20\n"
     ]
    }
   ],
   "source": [
    "#Get the texts\n",
    "\n",
    "class1 = [doc for doc in os.listdir(os.path.join(base, 'Raw_data/Class1'))]\n",
    "class0 = [doc for doc in os.listdir(os.path.join(base, 'Raw_data/Class0'))]\n",
    "\n",
    "print('Relevant documents: ', len(class1), '\\nIrrelevant documents: ', len(class0))"
   ]
  },
  {
   "cell_type": "code",
   "execution_count": 7,
   "id": "unexpected-martial",
   "metadata": {},
   "outputs": [],
   "source": [
    "df = pd.DataFrame(columns=['Document', 'Class', 'Directory'])\n",
    "\n",
    "row=0\n",
    "for doc in class1:\n",
    "    df.loc[row, 'Document'] = doc\n",
    "    df.loc[row, 'Class'] = 1\n",
    "    df.loc[row, 'Directory'] = os.path.join(base, 'Raw_data/Class1')\n",
    "    row=row+1\n",
    "    \n",
    "for doc in class0:\n",
    "    df.loc[row, 'Document'] = doc\n",
    "    df.loc[row, 'Class'] = 0\n",
    "    df.loc[row, 'Directory'] = os.path.join(base, 'Raw_data/Class0')\n",
    "    row=row+1"
   ]
  },
  {
   "cell_type": "code",
   "execution_count": 8,
   "id": "athletic-spider",
   "metadata": {},
   "outputs": [
    {
     "name": "stderr",
     "output_type": "stream",
     "text": [
      " 90%|█████████ | 38/42 [02:30<00:11,  2.85s/it]"
     ]
    },
    {
     "name": "stdout",
     "output_type": "stream",
     "text": [
      "psr_mr18_1_3_pass-through_analysis_consultation_february_2019.pdf\n"
     ]
    },
    {
     "name": "stderr",
     "output_type": "stream",
     "text": [
      "100%|██████████| 42/42 [02:42<00:00,  3.87s/it]"
     ]
    },
    {
     "name": "stdout",
     "output_type": "stream",
     "text": [
      "162.3767900466919\n"
     ]
    },
    {
     "name": "stderr",
     "output_type": "stream",
     "text": [
      "\n"
     ]
    }
   ],
   "source": [
    "#loop through them all at once. \n",
    "\n",
    "tqdm.pandas()\n",
    "\n",
    "start = time.time()\n",
    "\n",
    "df['Text'] = df.progress_apply(lambda x: read_file(x['Document'], x['Directory']), axis=1)\n",
    "\n",
    "end = time.time()\n",
    "print(end - start)"
   ]
  },
  {
   "cell_type": "markdown",
   "id": "rental-silly",
   "metadata": {},
   "source": [
    "## Step 2. Text cleaning and lemmatization"
   ]
  },
  {
   "cell_type": "code",
   "execution_count": 9,
   "id": "alternative-necessity",
   "metadata": {},
   "outputs": [],
   "source": [
    "#A set of words we want to screen out as corpus-specific stop words, i.e. 'article', 'paragraph', etc\n",
    "\n",
    "os.chdir(os.path.join(base, 'Documents'))\n",
    "\n",
    "useless = docx2txt.process(\"useless_words.docx\")\n",
    "useless = re.findall(r'\\w+', useless)\n",
    "useless = lemmatize(useless)\n",
    "useless = [u.lower() for u in useless]"
   ]
  },
  {
   "cell_type": "code",
   "execution_count": 11,
   "id": "gorgeous-vulnerability",
   "metadata": {},
   "outputs": [],
   "source": [
    "# All non-English words will be disposed of. Keep important non-English words on this list.\n",
    "\n",
    "informative = docx2txt.process(\"informative_words.docx\")\n",
    "informative = re.findall(r'\\w+', informative)\n",
    "informative = [i.lower() for i in informative]"
   ]
  },
  {
   "cell_type": "code",
   "execution_count": 14,
   "id": "weekly-miami",
   "metadata": {},
   "outputs": [
    {
     "name": "stderr",
     "output_type": "stream",
     "text": [
      "100%|██████████| 42/42 [00:59<00:00,  1.43s/it]\n"
     ]
    }
   ],
   "source": [
    "#loop through them all at once.\n",
    "\n",
    "df['Cleaned_Text'] = df['Text'].progress_apply(clean_text, args=(useless,informative))"
   ]
  },
  {
   "cell_type": "code",
   "execution_count": 20,
   "id": "heard-parish",
   "metadata": {},
   "outputs": [],
   "source": [
    "df = df.dropna()"
   ]
  },
  {
   "cell_type": "markdown",
   "id": "corresponding-frontier",
   "metadata": {},
   "source": [
    "## Step 4. Import and clean the reference text"
   ]
  },
  {
   "cell_type": "code",
   "execution_count": 40,
   "id": "together-vatican",
   "metadata": {},
   "outputs": [],
   "source": [
    "#import keywords\n",
    "os.chdir(raw)\n",
    "\n",
    "with open('Reftext.txt', 'r+') as f:\n",
    "    reftext = f.readlines()  \n",
    "    \n",
    "reftext = [re.sub('\\n', '', r) for r in reftext]\n",
    "reftext = [re.sub(r'[^a-zA-Z ]', '', r) for r in reftext]\n",
    "reftext = list(filter(None, reftext))\n",
    "reftext = ' '.join([r for r in reftext])"
   ]
  },
  {
   "cell_type": "code",
   "execution_count": 41,
   "id": "pharmaceutical-simon",
   "metadata": {},
   "outputs": [],
   "source": [
    "reftext = clean_text(reftext, useless, informative)\n",
    "reftext = ' '.join([r for r in reftext])"
   ]
  },
  {
   "cell_type": "markdown",
   "id": "dedicated-vatican",
   "metadata": {},
   "source": [
    "## Step 5. Get word embeddings for the reftext and the documents. <br> Calculate a similarity score and add it as a column."
   ]
  },
  {
   "cell_type": "code",
   "execution_count": 77,
   "id": "sonic-killer",
   "metadata": {},
   "outputs": [],
   "source": [
    "model = SentenceTransformer('distilbert-base-nli-mean-tokens')\n",
    "\n",
    "#join the cleaned text together into a string\n",
    "df['Join_Text'] = [' '.join(text) for text in df.Cleaned_Text]\n",
    "\n",
    "all_embeddings = []\n",
    "\n",
    "for r,v in df.iterrows():\n",
    "    \n",
    "    text = df.loc[r, 'Join_Text']\n",
    "    doc_embedding = model.encode([text])\n",
    "    all_embeddings.extend(doc_embedding)\n",
    "    sim = cosine_similarity(doc_embedding, model.encode([reftext]))\n",
    "    num = float(sim)\n",
    "        \n",
    "    df.loc[r, 'Reference_Similarity'] = num"
   ]
  },
  {
   "cell_type": "code",
   "execution_count": 78,
   "id": "conscious-circumstances",
   "metadata": {},
   "outputs": [],
   "source": [
    "# Get the mean similarity in each class\n",
    "\n",
    "sims = df.groupby('Class')['Reference_Similarity'].mean()"
   ]
  },
  {
   "cell_type": "code",
   "execution_count": 79,
   "id": "handed-florida",
   "metadata": {},
   "outputs": [
    {
     "data": {
      "text/plain": [
       "Class\n",
       "0    0.750874\n",
       "1    0.766385\n",
       "Name: Reference_Similarity, dtype: float64"
      ]
     },
     "execution_count": 79,
     "metadata": {},
     "output_type": "execute_result"
    }
   ],
   "source": [
    "sims"
   ]
  },
  {
   "cell_type": "markdown",
   "id": "offensive-bahrain",
   "metadata": {},
   "source": [
    "## Step 6. Plot the means and SDs"
   ]
  },
  {
   "cell_type": "code",
   "execution_count": 80,
   "id": "attached-passport",
   "metadata": {},
   "outputs": [
    {
     "data": {
      "image/png": "[encoded data removed]",
      "text/plain": [
       "<Figure size 504x288 with 1 Axes>"
      ]
     },
     "metadata": {
      "needs_background": "light"
     },
     "output_type": "display_data"
    }
   ],
   "source": [
    "plt.figure(figsize=(7, 4))\n",
    "\n",
    "ax = sns.barplot(x='Class', y='Reference_Similarity', data=df, estimator=np.mean, ci=95, capsize=0.1, color='deepskyblue')"
   ]
  },
  {
   "cell_type": "markdown",
   "id": "animated-worker",
   "metadata": {},
   "source": [
    "## Step 7. Visualise document embeddings"
   ]
  },
  {
   "cell_type": "code",
   "execution_count": 81,
   "id": "golden-plymouth",
   "metadata": {},
   "outputs": [],
   "source": [
    "indexes = df.Document"
   ]
  },
  {
   "cell_type": "code",
   "execution_count": 82,
   "id": "personalized-flour",
   "metadata": {},
   "outputs": [
    {
     "data": {
      "text/plain": [
       "(768,)"
      ]
     },
     "execution_count": 82,
     "metadata": {},
     "output_type": "execute_result"
    }
   ],
   "source": [
    "all_embeddings[0].shape"
   ]
  },
  {
   "cell_type": "code",
   "execution_count": 83,
   "id": "absolute-broadcasting",
   "metadata": {},
   "outputs": [],
   "source": [
    "embeds = pd.DataFrame(data=all_embeddings, index=indexes)"
   ]
  },
  {
   "cell_type": "code",
   "execution_count": 84,
   "id": "supported-future",
   "metadata": {},
   "outputs": [
    {
     "data": {
      "text/html": [
       "<div>\n",
       "<style scoped>\n",
       "    .dataframe tbody tr th:only-of-type {\n",
       "        vertical-align: middle;\n",
       "    }\n",
       "\n",
       "    .dataframe tbody tr th {\n",
       "        vertical-align: top;\n",
       "    }\n",
       "\n",
       "    .dataframe thead th {\n",
       "        text-align: right;\n",
       "    }\n",
       "</style>\n",
       "<table border=\"1\" class=\"dataframe\">\n",
       "  <thead>\n",
       "    <tr style=\"text-align: right;\">\n",
       "      <th></th>\n",
       "      <th>0</th>\n",
       "      <th>1</th>\n",
       "      <th>2</th>\n",
       "      <th>3</th>\n",
       "      <th>4</th>\n",
       "      <th>5</th>\n",
       "      <th>6</th>\n",
       "      <th>7</th>\n",
       "      <th>8</th>\n",
       "      <th>9</th>\n",
       "      <th>...</th>\n",
       "      <th>758</th>\n",
       "      <th>759</th>\n",
       "      <th>760</th>\n",
       "      <th>761</th>\n",
       "      <th>762</th>\n",
       "      <th>763</th>\n",
       "      <th>764</th>\n",
       "      <th>765</th>\n",
       "      <th>766</th>\n",
       "      <th>767</th>\n",
       "    </tr>\n",
       "    <tr>\n",
       "      <th>Document</th>\n",
       "      <th></th>\n",
       "      <th></th>\n",
       "      <th></th>\n",
       "      <th></th>\n",
       "      <th></th>\n",
       "      <th></th>\n",
       "      <th></th>\n",
       "      <th></th>\n",
       "      <th></th>\n",
       "      <th></th>\n",
       "      <th></th>\n",
       "      <th></th>\n",
       "      <th></th>\n",
       "      <th></th>\n",
       "      <th></th>\n",
       "      <th></th>\n",
       "      <th></th>\n",
       "      <th></th>\n",
       "      <th></th>\n",
       "      <th></th>\n",
       "      <th></th>\n",
       "    </tr>\n",
       "  </thead>\n",
       "  <tbody>\n",
       "    <tr>\n",
       "      <th>MT FIAU implementing procedures  Application of AML CTF obligations to the virtual financial assets sector.pdf</th>\n",
       "      <td>-0.805823</td>\n",
       "      <td>-0.197887</td>\n",
       "      <td>-0.103661</td>\n",
       "      <td>-0.120870</td>\n",
       "      <td>-0.174182</td>\n",
       "      <td>-0.267405</td>\n",
       "      <td>0.351279</td>\n",
       "      <td>-0.327458</td>\n",
       "      <td>-0.151043</td>\n",
       "      <td>0.484858</td>\n",
       "      <td>...</td>\n",
       "      <td>-1.131412</td>\n",
       "      <td>-0.169716</td>\n",
       "      <td>0.576606</td>\n",
       "      <td>0.579641</td>\n",
       "      <td>0.168141</td>\n",
       "      <td>0.198241</td>\n",
       "      <td>-0.773821</td>\n",
       "      <td>-0.059091</td>\n",
       "      <td>0.304091</td>\n",
       "      <td>-0.238853</td>\n",
       "    </tr>\n",
       "    <tr>\n",
       "      <th>MGA-VFA-and-ITA-sandbox-v.3-Final-2.pdf</th>\n",
       "      <td>-0.777515</td>\n",
       "      <td>0.177517</td>\n",
       "      <td>0.721073</td>\n",
       "      <td>-0.995933</td>\n",
       "      <td>-0.038598</td>\n",
       "      <td>-0.534895</td>\n",
       "      <td>0.259265</td>\n",
       "      <td>-0.068081</td>\n",
       "      <td>0.190695</td>\n",
       "      <td>-0.343231</td>\n",
       "      <td>...</td>\n",
       "      <td>-0.955157</td>\n",
       "      <td>-0.595964</td>\n",
       "      <td>0.047654</td>\n",
       "      <td>0.829680</td>\n",
       "      <td>0.216112</td>\n",
       "      <td>-0.008417</td>\n",
       "      <td>-0.047991</td>\n",
       "      <td>0.472545</td>\n",
       "      <td>0.090047</td>\n",
       "      <td>-0.449344</td>\n",
       "    </tr>\n",
       "    <tr>\n",
       "      <th>IPOL_STU(2018)604970_EN.pdf</th>\n",
       "      <td>-0.707766</td>\n",
       "      <td>-0.108831</td>\n",
       "      <td>-0.051706</td>\n",
       "      <td>-0.479855</td>\n",
       "      <td>-0.515779</td>\n",
       "      <td>-0.591586</td>\n",
       "      <td>0.515886</td>\n",
       "      <td>-0.215531</td>\n",
       "      <td>0.228115</td>\n",
       "      <td>-0.130907</td>\n",
       "      <td>...</td>\n",
       "      <td>-0.602369</td>\n",
       "      <td>-0.236422</td>\n",
       "      <td>0.017709</td>\n",
       "      <td>1.114011</td>\n",
       "      <td>-0.178531</td>\n",
       "      <td>0.071325</td>\n",
       "      <td>-0.139074</td>\n",
       "      <td>-0.148846</td>\n",
       "      <td>0.327224</td>\n",
       "      <td>-0.155897</td>\n",
       "    </tr>\n",
       "    <tr>\n",
       "      <th>Philippines VASP guidelines.pdf</th>\n",
       "      <td>-1.243931</td>\n",
       "      <td>-0.385060</td>\n",
       "      <td>0.501914</td>\n",
       "      <td>-0.399655</td>\n",
       "      <td>-0.261370</td>\n",
       "      <td>-0.619135</td>\n",
       "      <td>-0.216848</td>\n",
       "      <td>-0.051782</td>\n",
       "      <td>0.142936</td>\n",
       "      <td>-0.883885</td>\n",
       "      <td>...</td>\n",
       "      <td>-0.688449</td>\n",
       "      <td>-0.773566</td>\n",
       "      <td>0.494649</td>\n",
       "      <td>0.414052</td>\n",
       "      <td>-0.043302</td>\n",
       "      <td>0.429505</td>\n",
       "      <td>-0.150053</td>\n",
       "      <td>0.400978</td>\n",
       "      <td>0.036838</td>\n",
       "      <td>-0.373832</td>\n",
       "    </tr>\n",
       "    <tr>\n",
       "      <th>MT Virtual Financial Assets Act.pdf</th>\n",
       "      <td>-1.160633</td>\n",
       "      <td>-0.428397</td>\n",
       "      <td>0.156079</td>\n",
       "      <td>-0.540268</td>\n",
       "      <td>-0.141783</td>\n",
       "      <td>-0.941596</td>\n",
       "      <td>0.606129</td>\n",
       "      <td>0.339077</td>\n",
       "      <td>-0.908347</td>\n",
       "      <td>-0.544339</td>\n",
       "      <td>...</td>\n",
       "      <td>-0.739182</td>\n",
       "      <td>-0.458631</td>\n",
       "      <td>0.919171</td>\n",
       "      <td>0.447259</td>\n",
       "      <td>-0.258057</td>\n",
       "      <td>0.007148</td>\n",
       "      <td>-0.453211</td>\n",
       "      <td>0.023486</td>\n",
       "      <td>0.357389</td>\n",
       "      <td>0.063188</td>\n",
       "    </tr>\n",
       "  </tbody>\n",
       "</table>\n",
       "<p>5 rows × 768 columns</p>\n",
       "</div>"
      ],
      "text/plain": [
       "                                                         0         1    \\\n",
       "Document                                                                 \n",
       "MT FIAU implementing procedures  Application of... -0.805823 -0.197887   \n",
       "MGA-VFA-and-ITA-sandbox-v.3-Final-2.pdf            -0.777515  0.177517   \n",
       "IPOL_STU(2018)604970_EN.pdf                        -0.707766 -0.108831   \n",
       "Philippines VASP guidelines.pdf                    -1.243931 -0.385060   \n",
       "MT Virtual Financial Assets Act.pdf                -1.160633 -0.428397   \n",
       "\n",
       "                                                         2         3    \\\n",
       "Document                                                                 \n",
       "MT FIAU implementing procedures  Application of... -0.103661 -0.120870   \n",
       "MGA-VFA-and-ITA-sandbox-v.3-Final-2.pdf             0.721073 -0.995933   \n",
       "IPOL_STU(2018)604970_EN.pdf                        -0.051706 -0.479855   \n",
       "Philippines VASP guidelines.pdf                     0.501914 -0.399655   \n",
       "MT Virtual Financial Assets Act.pdf                 0.156079 -0.540268   \n",
       "\n",
       "                                                         4         5    \\\n",
       "Document                                                                 \n",
       "MT FIAU implementing procedures  Application of... -0.174182 -0.267405   \n",
       "MGA-VFA-and-ITA-sandbox-v.3-Final-2.pdf            -0.038598 -0.534895   \n",
       "IPOL_STU(2018)604970_EN.pdf                        -0.515779 -0.591586   \n",
       "Philippines VASP guidelines.pdf                    -0.261370 -0.619135   \n",
       "MT Virtual Financial Assets Act.pdf                -0.141783 -0.941596   \n",
       "\n",
       "                                                         6         7    \\\n",
       "Document                                                                 \n",
       "MT FIAU implementing procedures  Application of...  0.351279 -0.327458   \n",
       "MGA-VFA-and-ITA-sandbox-v.3-Final-2.pdf             0.259265 -0.068081   \n",
       "IPOL_STU(2018)604970_EN.pdf                         0.515886 -0.215531   \n",
       "Philippines VASP guidelines.pdf                    -0.216848 -0.051782   \n",
       "MT Virtual Financial Assets Act.pdf                 0.606129  0.339077   \n",
       "\n",
       "                                                         8         9    ...  \\\n",
       "Document                                                                ...   \n",
       "MT FIAU implementing procedures  Application of... -0.151043  0.484858  ...   \n",
       "MGA-VFA-and-ITA-sandbox-v.3-Final-2.pdf             0.190695 -0.343231  ...   \n",
       "IPOL_STU(2018)604970_EN.pdf                         0.228115 -0.130907  ...   \n",
       "Philippines VASP guidelines.pdf                     0.142936 -0.883885  ...   \n",
       "MT Virtual Financial Assets Act.pdf                -0.908347 -0.544339  ...   \n",
       "\n",
       "                                                         758       759  \\\n",
       "Document                                                                 \n",
       "MT FIAU implementing procedures  Application of... -1.131412 -0.169716   \n",
       "MGA-VFA-and-ITA-sandbox-v.3-Final-2.pdf            -0.955157 -0.595964   \n",
       "IPOL_STU(2018)604970_EN.pdf                        -0.602369 -0.236422   \n",
       "Philippines VASP guidelines.pdf                    -0.688449 -0.773566   \n",
       "MT Virtual Financial Assets Act.pdf                -0.739182 -0.458631   \n",
       "\n",
       "                                                         760       761  \\\n",
       "Document                                                                 \n",
       "MT FIAU implementing procedures  Application of...  0.576606  0.579641   \n",
       "MGA-VFA-and-ITA-sandbox-v.3-Final-2.pdf             0.047654  0.829680   \n",
       "IPOL_STU(2018)604970_EN.pdf                         0.017709  1.114011   \n",
       "Philippines VASP guidelines.pdf                     0.494649  0.414052   \n",
       "MT Virtual Financial Assets Act.pdf                 0.919171  0.447259   \n",
       "\n",
       "                                                         762       763  \\\n",
       "Document                                                                 \n",
       "MT FIAU implementing procedures  Application of...  0.168141  0.198241   \n",
       "MGA-VFA-and-ITA-sandbox-v.3-Final-2.pdf             0.216112 -0.008417   \n",
       "IPOL_STU(2018)604970_EN.pdf                        -0.178531  0.071325   \n",
       "Philippines VASP guidelines.pdf                    -0.043302  0.429505   \n",
       "MT Virtual Financial Assets Act.pdf                -0.258057  0.007148   \n",
       "\n",
       "                                                         764       765  \\\n",
       "Document                                                                 \n",
       "MT FIAU implementing procedures  Application of... -0.773821 -0.059091   \n",
       "MGA-VFA-and-ITA-sandbox-v.3-Final-2.pdf            -0.047991  0.472545   \n",
       "IPOL_STU(2018)604970_EN.pdf                        -0.139074 -0.148846   \n",
       "Philippines VASP guidelines.pdf                    -0.150053  0.400978   \n",
       "MT Virtual Financial Assets Act.pdf                -0.453211  0.023486   \n",
       "\n",
       "                                                         766       767  \n",
       "Document                                                                \n",
       "MT FIAU implementing procedures  Application of...  0.304091 -0.238853  \n",
       "MGA-VFA-and-ITA-sandbox-v.3-Final-2.pdf             0.090047 -0.449344  \n",
       "IPOL_STU(2018)604970_EN.pdf                         0.327224 -0.155897  \n",
       "Philippines VASP guidelines.pdf                     0.036838 -0.373832  \n",
       "MT Virtual Financial Assets Act.pdf                 0.357389  0.063188  \n",
       "\n",
       "[5 rows x 768 columns]"
      ]
     },
     "execution_count": 84,
     "metadata": {},
     "output_type": "execute_result"
    }
   ],
   "source": [
    "embeds.head()"
   ]
  },
  {
   "cell_type": "code",
   "execution_count": 85,
   "id": "whole-classics",
   "metadata": {},
   "outputs": [],
   "source": [
    "#PCA for dimensionality reduction\n",
    "\n",
    "#Computing the correlation matrix\n",
    "X_corr=embeds.corr()\n",
    "\n",
    "#Computing eigen values and eigen vectors\n",
    "values,vectors=np.linalg.eig(X_corr)\n",
    "\n",
    "#Sorting the eigen vectors coresponding to eigen values in descending order\n",
    "args = (-values).argsort()\n",
    "values = vectors[args]\n",
    "vectors = vectors[:, args]\n",
    "\n",
    "#Taking first 2 components which explain maximum variance for projecting\n",
    "new_vectors=vectors[:,:2]\n",
    "\n",
    "#Projecting it onto new dimesion with 2 axis\n",
    "neww_X=np.dot(embeds,new_vectors)"
   ]
  },
  {
   "cell_type": "code",
   "execution_count": 86,
   "id": "satisfied-karaoke",
   "metadata": {},
   "outputs": [
    {
     "data": {
      "text/plain": [
       "array([[ 0.53955228+0.j,  2.72597434+0.j],\n",
       "       [ 0.45856716+0.j, -0.23051911+0.j],\n",
       "       [ 1.17830852+0.j,  1.10723566+0.j],\n",
       "       [ 2.0028853 +0.j, -3.52361846+0.j],\n",
       "       [-5.25874485+0.j,  0.69534413+0.j],\n",
       "       [-2.00403729+0.j,  0.33689798+0.j],\n",
       "       [-2.42499321+0.j, -1.91260273+0.j],\n",
       "       [-4.89799929+0.j,  0.3477551 +0.j],\n",
       "       [-2.72764469+0.j, -1.22699883+0.j],\n",
       "       [-2.57852235+0.j,  2.51655129+0.j],\n",
       "       [ 1.50714079+0.j, -2.19972396+0.j],\n",
       "       [-0.02361399+0.j,  3.06935385+0.j],\n",
       "       [-2.62436056+0.j, -0.64576261+0.j],\n",
       "       [ 1.3996239 +0.j,  0.91536264+0.j],\n",
       "       [ 1.32689256+0.j,  0.59366931+0.j],\n",
       "       [ 1.67426787+0.j, -0.38929698+0.j],\n",
       "       [-4.80922777+0.j,  0.14456788+0.j],\n",
       "       [-2.61871587+0.j, -1.01083051+0.j],\n",
       "       [-6.86496496+0.j, -2.87882978+0.j],\n",
       "       [-2.76768888+0.j, -0.63242293+0.j],\n",
       "       [-2.6137632 +0.j, -1.52772034+0.j],\n",
       "       [-5.38198833+0.j, -2.61192079+0.j],\n",
       "       [-0.87235746+0.j, -0.1045212 +0.j],\n",
       "       [-0.7043367 +0.j, -1.2207877 +0.j],\n",
       "       [-3.47570243+0.j, -5.58734265+0.j],\n",
       "       [ 1.63045398+0.j, -6.33962771+0.j],\n",
       "       [-2.3923816 +0.j, -5.90632484+0.j],\n",
       "       [-5.40944607+0.j, -2.39234257+0.j],\n",
       "       [ 4.26337539+0.j, -1.1084443 +0.j],\n",
       "       [-5.17204045+0.j, -3.59543146+0.j],\n",
       "       [-5.72832571+0.j, -3.96298368+0.j],\n",
       "       [-5.45250837+0.j, -1.90319878+0.j],\n",
       "       [ 1.86857787+0.j, -8.07336874+0.j],\n",
       "       [-5.80810391+0.j, -3.97531662+0.j],\n",
       "       [-6.71746877+0.j, -2.95066491+0.j],\n",
       "       [-1.77768447+0.j, -1.14209929+0.j],\n",
       "       [-2.72329748+0.j, -4.76418413+0.j],\n",
       "       [ 1.3869378 +0.j, -8.208471  +0.j],\n",
       "       [ 2.2717863 +0.j, -5.71582174+0.j]])"
      ]
     },
     "execution_count": 86,
     "metadata": {},
     "output_type": "execute_result"
    }
   ],
   "source": [
    "neww_X"
   ]
  },
  {
   "cell_type": "code",
   "execution_count": 99,
   "id": "every-hollywood",
   "metadata": {},
   "outputs": [
    {
     "name": "stderr",
     "output_type": "stream",
     "text": [
      "/Users/Viktoria/anaconda3/envs/Flawless/lib/python3.8/site-packages/numpy/core/_asarray.py:138: ComplexWarning: Casting complex values to real discards the imaginary part\n",
      "  return array(a, dtype, copy=False, order=order, subok=True)\n"
     ]
    },
    {
     "data": {
      "image/png": "[encoded data removed]",
      "text/plain": [
       "<Figure size 1152x648 with 1 Axes>"
      ]
     },
     "metadata": {
      "needs_background": "light"
     },
     "output_type": "display_data"
    }
   ],
   "source": [
    "import matplotlib.pyplot as plt\n",
    "\n",
    "docs1 = df[df.Class==1].Document.tolist()\n",
    "docs0 = df[df.Class==0].Document.tolist()\n",
    "\n",
    "plt.figure(figsize=(16,9))\n",
    "plt.xlabel(\"PC1\",size=10)\n",
    "plt.ylabel(\"PC2\",size=10)\n",
    "plt.rcParams.update({'font.size': 7})\n",
    "plt.title(\"Word Embedding Space\",size=20)\n",
    "\n",
    "docs=list(embeds.index)\n",
    "for i, doc in enumerate(docs):\n",
    "    if doc in docs1:\n",
    "        plt.scatter(neww_X[i,0],neww_X[i,1],linewidths=10,color='red')\n",
    "    elif doc in docs0:\n",
    "        plt.scatter(neww_X[i,0],neww_X[i,1],linewidths=10,color='blue')\n",
    "        \n",
    "os.chdir(viz)\n",
    "plt.savefig('Topic embedding space.pdf')"
   ]
  },
  {
   "cell_type": "code",
   "execution_count": null,
   "id": "british-hampshire",
   "metadata": {},
   "outputs": [],
   "source": []
  }
 ],
 "metadata": {
  "kernelspec": {
   "display_name": "Python 3",
   "language": "python",
   "name": "python3"
  },
  "language_info": {
   "codemirror_mode": {
    "name": "ipython",
    "version": 3
   },
   "file_extension": ".py",
   "mimetype": "text/x-python",
   "name": "python",
   "nbconvert_exporter": "python",
   "pygments_lexer": "ipython3",
   "version": "3.8.8"
  }
 },
 "nbformat": 4,
 "nbformat_minor": 5
}
